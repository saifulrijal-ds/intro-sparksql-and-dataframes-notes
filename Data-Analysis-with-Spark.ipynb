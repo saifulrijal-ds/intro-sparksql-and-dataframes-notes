{
 "cells": [
  {
   "cell_type": "code",
   "execution_count": 1,
   "metadata": {},
   "outputs": [],
   "source": [
    "# initiate findspark\n",
    "import findspark\n",
    "findspark.init()"
   ]
  },
  {
   "cell_type": "code",
   "execution_count": 2,
   "metadata": {},
   "outputs": [],
   "source": [
    "# import package\n",
    "from pyspark.sql import SparkSession"
   ]
  },
  {
   "cell_type": "code",
   "execution_count": 3,
   "metadata": {},
   "outputs": [],
   "source": [
    "# create Spark Session\n",
    "spark = SparkSession.builder.appName(\"Data Analysis with Spark\").getOrCreate()"
   ]
  },
  {
   "cell_type": "code",
   "execution_count": 4,
   "metadata": {
    "scrolled": true
   },
   "outputs": [
    {
     "data": {
      "text/html": [
       "\n",
       "            <div>\n",
       "                <p><b>SparkSession - in-memory</b></p>\n",
       "                \n",
       "        <div>\n",
       "            <p><b>SparkContext</b></p>\n",
       "\n",
       "            <p><a href=\"http://LAPTOP-SUIKGP8S:4040\">Spark UI</a></p>\n",
       "\n",
       "            <dl>\n",
       "              <dt>Version</dt>\n",
       "                <dd><code>v2.4.7</code></dd>\n",
       "              <dt>Master</dt>\n",
       "                <dd><code>local[*]</code></dd>\n",
       "              <dt>AppName</dt>\n",
       "                <dd><code>Data Analysis with Spark</code></dd>\n",
       "            </dl>\n",
       "        </div>\n",
       "        \n",
       "            </div>\n",
       "        "
      ],
      "text/plain": [
       "<pyspark.sql.session.SparkSession at 0x227767c5388>"
      ]
     },
     "execution_count": 4,
     "metadata": {},
     "output_type": "execute_result"
    }
   ],
   "source": [
    "spark"
   ]
  },
  {
   "cell_type": "code",
   "execution_count": 5,
   "metadata": {},
   "outputs": [],
   "source": [
    "# load data to DataFrames\n",
    "df_util = spark.read.format(\"json\").load(\"df2.json\")"
   ]
  },
  {
   "cell_type": "code",
   "execution_count": 6,
   "metadata": {},
   "outputs": [
    {
     "name": "stdout",
     "output_type": "stream",
     "text": [
      "+---------------+-------------------+-----------+---------+-------------+\n",
      "|cpu_utilization|     event_datetime|free_memory|server_id|session_count|\n",
      "+---------------+-------------------+-----------+---------+-------------+\n",
      "|           0.57|03/05/2019 08:06:14|       0.51|      100|           47|\n",
      "|           0.47|03/05/2019 08:11:14|       0.62|      100|           43|\n",
      "|           0.56|03/05/2019 08:16:14|       0.57|      100|           62|\n",
      "|           0.57|03/05/2019 08:21:14|       0.56|      100|           50|\n",
      "|           0.35|03/05/2019 08:26:14|       0.46|      100|           43|\n",
      "|           0.41|03/05/2019 08:31:14|       0.58|      100|           48|\n",
      "|           0.57|03/05/2019 08:36:14|       0.35|      100|           58|\n",
      "|           0.41|03/05/2019 08:41:14|        0.4|      100|           58|\n",
      "|           0.53|03/05/2019 08:46:14|       0.35|      100|           62|\n",
      "|           0.51|03/05/2019 08:51:14|        0.6|      100|           45|\n",
      "|           0.32|03/05/2019 08:56:14|       0.37|      100|           47|\n",
      "|           0.62|03/05/2019 09:01:14|       0.59|      100|           60|\n",
      "|           0.66|03/05/2019 09:06:14|       0.72|      100|           57|\n",
      "|           0.54|03/05/2019 09:11:14|       0.54|      100|           44|\n",
      "|           0.29|03/05/2019 09:16:14|        0.4|      100|           47|\n",
      "|           0.43|03/05/2019 09:21:14|       0.68|      100|           66|\n",
      "|           0.49|03/05/2019 09:26:14|       0.66|      100|           65|\n",
      "|           0.64|03/05/2019 09:31:14|       0.55|      100|           66|\n",
      "|           0.42|03/05/2019 09:36:14|        0.6|      100|           42|\n",
      "|           0.55|03/05/2019 09:41:14|       0.59|      100|           63|\n",
      "+---------------+-------------------+-----------+---------+-------------+\n",
      "only showing top 20 rows\n",
      "\n"
     ]
    }
   ],
   "source": [
    "df_util.show()"
   ]
  },
  {
   "cell_type": "code",
   "execution_count": 7,
   "metadata": {},
   "outputs": [],
   "source": [
    "# create temporary view table\n",
    "df_util.createOrReplaceTempView(\"utilization\")"
   ]
  },
  {
   "cell_type": "code",
   "execution_count": 8,
   "metadata": {},
   "outputs": [
    {
     "data": {
      "text/plain": [
       "[Table(name='utilization', database=None, description=None, tableType='TEMPORARY', isTemporary=True)]"
      ]
     },
     "execution_count": 8,
     "metadata": {},
     "output_type": "execute_result"
    }
   ],
   "source": [
    "spark.catalog.listTables()"
   ]
  },
  {
   "cell_type": "markdown",
   "metadata": {},
   "source": [
    "#### Exploratory Data Analysis with DataFrames"
   ]
  },
  {
   "cell_type": "code",
   "execution_count": 9,
   "metadata": {},
   "outputs": [
    {
     "name": "stdout",
     "output_type": "stream",
     "text": [
      "+-------+------------------+-------------------+-------------------+------------------+-----------------+\n",
      "|summary|   cpu_utilization|     event_datetime|        free_memory|         server_id|    session_count|\n",
      "+-------+------------------+-------------------+-------------------+------------------+-----------------+\n",
      "|  count|            500000|             500000|             500000|            500000|           500000|\n",
      "|   mean|0.6205177399999616|               null|0.37912809999999375|             124.5|         69.59616|\n",
      "| stddev|0.1587517387291305|               null|0.15830931278376148|14.430884120552617|14.85067669635284|\n",
      "|    min|              0.22|03/05/2019 08:06:14|                0.0|               100|               32|\n",
      "|    max|               1.0|04/09/2019 01:22:46|               0.78|               149|              105|\n",
      "+-------+------------------+-------------------+-------------------+------------------+-----------------+\n",
      "\n"
     ]
    }
   ],
   "source": [
    "# summary statistic\n",
    "df_util.describe().show()"
   ]
  },
  {
   "cell_type": "code",
   "execution_count": 10,
   "metadata": {},
   "outputs": [
    {
     "data": {
      "text/plain": [
       "-0.47047715730807493"
      ]
     },
     "execution_count": 10,
     "metadata": {},
     "output_type": "execute_result"
    }
   ],
   "source": [
    "# get correlation between two variables\n",
    "df_util.stat.corr(\"cpu_utilization\", \"free_memory\")"
   ]
  },
  {
   "cell_type": "code",
   "execution_count": 11,
   "metadata": {},
   "outputs": [
    {
     "data": {
      "text/plain": [
       "-0.5008320848876711"
      ]
     },
     "execution_count": 11,
     "metadata": {},
     "output_type": "execute_result"
    }
   ],
   "source": [
    "df_util.stat.corr(\"free_memory\", \"session_count\")"
   ]
  },
  {
   "cell_type": "code",
   "execution_count": 12,
   "metadata": {},
   "outputs": [
    {
     "name": "stdout",
     "output_type": "stream",
     "text": [
      "+--------------------+-----------------------+\n",
      "| server_id_freqItems|session_count_freqItems|\n",
      "+--------------------+-----------------------+\n",
      "|[137, 146, 101, 1...|   [92, 101, 83, 104...|\n",
      "+--------------------+-----------------------+\n",
      "\n"
     ]
    }
   ],
   "source": [
    "# get most frequently occuring values\n",
    "df_util.stat.freqItems([\"server_id\", \"session_count\"]).show()"
   ]
  },
  {
   "cell_type": "code",
   "execution_count": 13,
   "metadata": {},
   "outputs": [],
   "source": [
    "# sampling data from DataFrame\n",
    "df_util_sample = df_util.sample(fraction=0.05, withReplacement=False)"
   ]
  },
  {
   "cell_type": "code",
   "execution_count": 14,
   "metadata": {},
   "outputs": [
    {
     "data": {
      "text/plain": [
       "25194"
      ]
     },
     "execution_count": 14,
     "metadata": {},
     "output_type": "execute_result"
    }
   ],
   "source": [
    "df_util_sample.count()"
   ]
  },
  {
   "cell_type": "markdown",
   "metadata": {},
   "source": [
    "#### Exploratory Data Analysis with Spark SQL"
   ]
  },
  {
   "cell_type": "code",
   "execution_count": 15,
   "metadata": {},
   "outputs": [
    {
     "name": "stdout",
     "output_type": "stream",
     "text": [
      "+--------------------+----------------------------+--------------------+--------------------+\n",
      "|avg(cpu_utilization)|stddev_samp(cpu_utilization)|min(cpu_utilization)|max(cpu_utilization)|\n",
      "+--------------------+----------------------------+--------------------+--------------------+\n",
      "|  0.6205177399999616|          0.1587517387291305|                0.22|                 1.0|\n",
      "+--------------------+----------------------------+--------------------+--------------------+\n",
      "\n"
     ]
    }
   ],
   "source": [
    "spark.sql(\"SELECT avg(cpu_utilization), stddev(cpu_utilization), min(cpu_utilization), max(cpu_utilization) FROM utilization\").show()"
   ]
  },
  {
   "cell_type": "code",
   "execution_count": 16,
   "metadata": {},
   "outputs": [
    {
     "name": "stdout",
     "output_type": "stream",
     "text": [
      "+---------+--------------------+----------------------------+--------------------+--------------------+\n",
      "|server_id|avg(cpu_utilization)|stddev_samp(cpu_utilization)|min(cpu_utilization)|max(cpu_utilization)|\n",
      "+---------+--------------------+----------------------------+--------------------+--------------------+\n",
      "|      112|  0.7153870000000067|         0.11528867845082576|                0.52|                0.92|\n",
      "|      113|  0.7833319999999914|         0.11544345150353694|                0.58|                0.98|\n",
      "|      130|  0.5519759999999908|         0.11568834774245991|                0.35|                0.75|\n",
      "|      126|  0.6784700000000012|         0.11542612970702058|                0.48|                0.88|\n",
      "|      149|  0.7447700000000035|         0.11543517500295467|                0.54|                0.94|\n",
      "|      110|  0.5537749999999892|         0.11533251724450215|                0.35|                0.75|\n",
      "|      136|  0.6052509999999953|         0.11597405743182258|                0.41|                 0.8|\n",
      "|      144|  0.6738750000000022|         0.11478654960489501|                0.47|                0.87|\n",
      "|      119|  0.4194930000000031|         0.11516031929842008|                0.22|                0.62|\n",
      "|      116|  0.4970290000000043|         0.11506079722349302|                 0.3|                 0.7|\n",
      "|      145|  0.7823149999999952|         0.11476448868786197|                0.58|                0.98|\n",
      "|      124|  0.4403350000000042|         0.11579377614906383|                0.24|                0.64|\n",
      "|      143|  0.4565030000000069|         0.11616596078044727|                0.26|                0.66|\n",
      "|      107|  0.6505060000000048|         0.11597417369783877|                0.45|                0.85|\n",
      "|      146|   0.699687000000013|         0.11488129439634706|                 0.5|                 0.9|\n",
      "|      103|  0.7614389999999969|         0.11617507884178278|                0.56|                0.96|\n",
      "|      139|  0.7153610000000032|         0.11519660023052102|                0.51|                0.91|\n",
      "|      138| 0.43531100000000233|          0.1155955860444133|                0.24|                0.64|\n",
      "|      114|  0.5294289999999972|         0.11510268816097273|                0.33|                0.73|\n",
      "|      115|  0.6398790000000023|         0.11569664615014985|                0.44|                0.84|\n",
      "+---------+--------------------+----------------------------+--------------------+--------------------+\n",
      "only showing top 20 rows\n",
      "\n"
     ]
    }
   ],
   "source": [
    "spark.sql(\"SELECT server_id, avg(cpu_utilization), stddev(cpu_utilization), min(cpu_utilization), max(cpu_utilization) \\\n",
    "           FROM utilization \\\n",
    "           GROUP BY server_id\").show()"
   ]
  },
  {
   "cell_type": "code",
   "execution_count": 17,
   "metadata": {},
   "outputs": [
    {
     "name": "stdout",
     "output_type": "stream",
     "text": [
      "+---------+------+\n",
      "|server_id|bucket|\n",
      "+---------+------+\n",
      "|      100|     5|\n",
      "|      100|     4|\n",
      "|      100|     5|\n",
      "|      100|     5|\n",
      "|      100|     3|\n",
      "|      100|     4|\n",
      "|      100|     5|\n",
      "|      100|     4|\n",
      "|      100|     5|\n",
      "|      100|     5|\n",
      "|      100|     3|\n",
      "|      100|     6|\n",
      "|      100|     6|\n",
      "|      100|     5|\n",
      "|      100|     2|\n",
      "|      100|     4|\n",
      "|      100|     4|\n",
      "|      100|     6|\n",
      "|      100|     4|\n",
      "|      100|     5|\n",
      "+---------+------+\n",
      "only showing top 20 rows\n",
      "\n"
     ]
    }
   ],
   "source": [
    "# calculate bucket / histogram\n",
    "spark.sql(\"SELECT server_id, FLOOR(cpu_utilization*100/10) AS bucket FROM utilization\").show()"
   ]
  },
  {
   "cell_type": "code",
   "execution_count": 18,
   "metadata": {},
   "outputs": [
    {
     "name": "stdout",
     "output_type": "stream",
     "text": [
      "+--------+------+\n",
      "|count(1)|bucket|\n",
      "+--------+------+\n",
      "|    8186|     2|\n",
      "|   37029|     3|\n",
      "|   68046|     4|\n",
      "|  104910|     5|\n",
      "|  116725|     6|\n",
      "|   88242|     7|\n",
      "|   56598|     8|\n",
      "|   20207|     9|\n",
      "|      57|    10|\n",
      "+--------+------+\n",
      "\n"
     ]
    }
   ],
   "source": [
    "# Calculate number of each bucket\n",
    "spark.sql(\"SELECT count(*), FLOOR(cpu_utilization*100/10) AS bucket FROM utilization GROUP BY bucket ORDER BY bucket\").show()"
   ]
  },
  {
   "cell_type": "code",
   "execution_count": 19,
   "metadata": {},
   "outputs": [
    {
     "name": "stdout",
     "output_type": "stream",
     "text": [
      "+---------+--------------------+--------------------+----------------------------+\n",
      "|server_id|min(cpu_utilization)|max(cpu_utilization)|stddev_samp(cpu_utilization)|\n",
      "+---------+--------------------+--------------------+----------------------------+\n",
      "|      112|                0.52|                0.92|         0.11528867845082576|\n",
      "|      113|                0.58|                0.98|         0.11544345150353694|\n",
      "|      130|                0.35|                0.75|         0.11568834774245991|\n",
      "|      126|                0.48|                0.88|         0.11542612970702058|\n",
      "|      149|                0.54|                0.94|         0.11543517500295467|\n",
      "|      110|                0.35|                0.75|         0.11533251724450215|\n",
      "|      136|                0.41|                 0.8|         0.11597405743182258|\n",
      "|      144|                0.47|                0.87|         0.11478654960489501|\n",
      "|      119|                0.22|                0.62|         0.11516031929842008|\n",
      "|      116|                 0.3|                 0.7|         0.11506079722349302|\n",
      "|      145|                0.58|                0.98|         0.11476448868786197|\n",
      "|      124|                0.24|                0.64|         0.11579377614906383|\n",
      "|      143|                0.26|                0.66|         0.11616596078044727|\n",
      "|      107|                0.45|                0.85|         0.11597417369783877|\n",
      "|      146|                 0.5|                 0.9|         0.11488129439634706|\n",
      "|      103|                0.56|                0.96|         0.11617507884178278|\n",
      "|      139|                0.51|                0.91|         0.11519660023052102|\n",
      "|      138|                0.24|                0.64|          0.1155955860444133|\n",
      "|      114|                0.33|                0.73|         0.11510268816097273|\n",
      "|      115|                0.44|                0.84|         0.11569664615014985|\n",
      "+---------+--------------------+--------------------+----------------------------+\n",
      "only showing top 20 rows\n",
      "\n"
     ]
    }
   ],
   "source": [
    "spark.sql(\"SELECT server_id, min(cpu_utilization), max(cpu_utilization), stddev(cpu_utilization) \\\n",
    "           FROM utilization \\\n",
    "           GROUP BY server_id\").show()"
   ]
  },
  {
   "cell_type": "code",
   "execution_count": 20,
   "metadata": {},
   "outputs": [
    {
     "name": "stdout",
     "output_type": "stream",
     "text": [
      "+-------------------+---------+---------------+------------------+\n",
      "|     event_datetime|server_id|cpu_utilization|   avg_server_util|\n",
      "+-------------------+---------+---------------+------------------+\n",
      "|03/05/2019 08:06:34|      112|           0.71|0.7153870000000067|\n",
      "|03/05/2019 08:11:34|      112|           0.78|0.7153870000000067|\n",
      "|03/05/2019 08:16:34|      112|           0.87|0.7153870000000067|\n",
      "|03/05/2019 08:21:34|      112|           0.82|0.7153870000000067|\n",
      "|03/05/2019 08:26:34|      112|           0.62|0.7153870000000067|\n",
      "|03/05/2019 08:31:34|      112|            0.9|0.7153870000000067|\n",
      "|03/05/2019 08:36:34|      112|           0.89|0.7153870000000067|\n",
      "|03/05/2019 08:41:34|      112|           0.81|0.7153870000000067|\n",
      "|03/05/2019 08:46:34|      112|           0.88|0.7153870000000067|\n",
      "|03/05/2019 08:51:34|      112|           0.89|0.7153870000000067|\n",
      "|03/05/2019 08:56:34|      112|           0.84|0.7153870000000067|\n",
      "|03/05/2019 09:01:34|      112|           0.71|0.7153870000000067|\n",
      "|03/05/2019 09:06:34|      112|           0.85|0.7153870000000067|\n",
      "|03/05/2019 09:11:34|      112|           0.72|0.7153870000000067|\n",
      "|03/05/2019 09:16:34|      112|           0.54|0.7153870000000067|\n",
      "|03/05/2019 09:21:34|      112|           0.58|0.7153870000000067|\n",
      "|03/05/2019 09:26:34|      112|           0.73|0.7153870000000067|\n",
      "|03/05/2019 09:31:34|      112|           0.86|0.7153870000000067|\n",
      "|03/05/2019 09:36:34|      112|           0.63|0.7153870000000067|\n",
      "|03/05/2019 09:41:34|      112|           0.75|0.7153870000000067|\n",
      "+-------------------+---------+---------------+------------------+\n",
      "only showing top 20 rows\n",
      "\n"
     ]
    }
   ],
   "source": [
    "# windowing\n",
    "sql_window = spark.sql(\"SELECT event_datetime, server_id, cpu_utilization, \\\n",
    "                        avg(cpu_utilization) OVER (PARTITION BY server_id) AS avg_server_util \\\n",
    "                        FROM utilization\")\n",
    "\n",
    "sql_window.show()"
   ]
  },
  {
   "cell_type": "markdown",
   "metadata": {},
   "source": [
    "Selisih antara cpu_utilzation pada suatu waktu dengan rata-rata cpu_utilization sepanjang waktu untuk masing-masing server_id.\n",
    "\n",
    "---\n",
    "Difference between cpu_utilzation at a time and the mean cpu_utilization over time for each server_id."
   ]
  },
  {
   "cell_type": "code",
   "execution_count": 21,
   "metadata": {},
   "outputs": [
    {
     "name": "stdout",
     "output_type": "stream",
     "text": [
      "+-------------------+---------+---------------+------------------+--------------------+\n",
      "|     event_datetime|server_id|cpu_utilization|   avg_server_util|   delta_server_util|\n",
      "+-------------------+---------+---------------+------------------+--------------------+\n",
      "|03/05/2019 08:06:34|      112|           0.71|0.7153870000000067|-0.00538700000000...|\n",
      "|03/05/2019 08:11:34|      112|           0.78|0.7153870000000067| 0.06461299999999337|\n",
      "|03/05/2019 08:16:34|      112|           0.87|0.7153870000000067| 0.15461299999999334|\n",
      "|03/05/2019 08:21:34|      112|           0.82|0.7153870000000067|  0.1046129999999933|\n",
      "|03/05/2019 08:26:34|      112|           0.62|0.7153870000000067|-0.09538700000000666|\n",
      "|03/05/2019 08:31:34|      112|            0.9|0.7153870000000067| 0.18461299999999337|\n",
      "|03/05/2019 08:36:34|      112|           0.89|0.7153870000000067| 0.17461299999999336|\n",
      "|03/05/2019 08:41:34|      112|           0.81|0.7153870000000067|  0.0946129999999934|\n",
      "|03/05/2019 08:46:34|      112|           0.88|0.7153870000000067| 0.16461299999999335|\n",
      "|03/05/2019 08:51:34|      112|           0.89|0.7153870000000067| 0.17461299999999336|\n",
      "|03/05/2019 08:56:34|      112|           0.84|0.7153870000000067| 0.12461299999999331|\n",
      "|03/05/2019 09:01:34|      112|           0.71|0.7153870000000067|-0.00538700000000...|\n",
      "|03/05/2019 09:06:34|      112|           0.85|0.7153870000000067| 0.13461299999999332|\n",
      "|03/05/2019 09:11:34|      112|           0.72|0.7153870000000067|0.004612999999993317|\n",
      "|03/05/2019 09:16:34|      112|           0.54|0.7153870000000067|-0.17538700000000662|\n",
      "|03/05/2019 09:21:34|      112|           0.58|0.7153870000000067| -0.1353870000000067|\n",
      "|03/05/2019 09:26:34|      112|           0.73|0.7153870000000067|0.014612999999993326|\n",
      "|03/05/2019 09:31:34|      112|           0.86|0.7153870000000067| 0.14461299999999333|\n",
      "|03/05/2019 09:36:34|      112|           0.63|0.7153870000000067|-0.08538700000000665|\n",
      "|03/05/2019 09:41:34|      112|           0.75|0.7153870000000067|0.034612999999993344|\n",
      "+-------------------+---------+---------------+------------------+--------------------+\n",
      "only showing top 20 rows\n",
      "\n"
     ]
    }
   ],
   "source": [
    "sql_window1 = spark.sql(\"SELECT event_datetime, server_id, cpu_utilization, \\\n",
    "                        avg(cpu_utilization) OVER (PARTITION BY server_id) AS avg_server_util, \\\n",
    "                        cpu_utilization - avg(cpu_utilization) OVER (PARTITION BY server_id) AS delta_server_util \\\n",
    "                        FROM utilization\")\n",
    "\n",
    "sql_window1.show()"
   ]
  },
  {
   "cell_type": "markdown",
   "metadata": {},
   "source": [
    "Membandingkan cpu_utilization pada suatu waktu dengan rata-rata cpu_utilization dari tiga baris satu waktu sebelum, pada saat itu, dan setelahnya.\n",
    "\n",
    "---\n",
    "Compares cpu_utilization at a time with the average cpu_utilization of three lines one time before, at that time, and after."
   ]
  },
  {
   "cell_type": "code",
   "execution_count": 22,
   "metadata": {},
   "outputs": [],
   "source": [
    "sql_window2 = spark.sql(\"SELECT event_datetime, server_id, cpu_utilization, \\\n",
    "                         avg(cpu_utilization) OVER (PARTITION BY server_id ORDER BY event_datetime \\\n",
    "                                                    ROWS BETWEEN 1 PRECEDING AND 1 FOLLOWING) AS avg_cpu_util \\\n",
    "                         FROM utilization\")"
   ]
  },
  {
   "cell_type": "code",
   "execution_count": 23,
   "metadata": {
    "scrolled": true
   },
   "outputs": [
    {
     "name": "stdout",
     "output_type": "stream",
     "text": [
      "+-------------------+---------+---------------+------------------+\n",
      "|     event_datetime|server_id|cpu_utilization|      avg_cpu_util|\n",
      "+-------------------+---------+---------------+------------------+\n",
      "|03/05/2019 08:06:34|      112|           0.71|             0.745|\n",
      "|03/05/2019 08:11:34|      112|           0.78|0.7866666666666666|\n",
      "|03/05/2019 08:16:34|      112|           0.87|0.8233333333333333|\n",
      "|03/05/2019 08:21:34|      112|           0.82|              0.77|\n",
      "|03/05/2019 08:26:34|      112|           0.62|0.7799999999999999|\n",
      "|03/05/2019 08:31:34|      112|            0.9|0.8033333333333333|\n",
      "|03/05/2019 08:36:34|      112|           0.89|0.8666666666666667|\n",
      "|03/05/2019 08:41:34|      112|           0.81|              0.86|\n",
      "|03/05/2019 08:46:34|      112|           0.88|              0.86|\n",
      "|03/05/2019 08:51:34|      112|           0.89|              0.87|\n",
      "|03/05/2019 08:56:34|      112|           0.84|0.8133333333333334|\n",
      "|03/05/2019 09:01:34|      112|           0.71|0.7999999999999999|\n",
      "|03/05/2019 09:06:34|      112|           0.85|0.7600000000000001|\n",
      "|03/05/2019 09:11:34|      112|           0.72|0.7033333333333333|\n",
      "|03/05/2019 09:16:34|      112|           0.54|0.6133333333333333|\n",
      "|03/05/2019 09:21:34|      112|           0.58|0.6166666666666667|\n",
      "|03/05/2019 09:26:34|      112|           0.73|0.7233333333333333|\n",
      "|03/05/2019 09:31:34|      112|           0.86|0.7399999999999999|\n",
      "|03/05/2019 09:36:34|      112|           0.63|0.7466666666666667|\n",
      "|03/05/2019 09:41:34|      112|           0.75|0.6999999999999998|\n",
      "+-------------------+---------+---------------+------------------+\n",
      "only showing top 20 rows\n",
      "\n"
     ]
    }
   ],
   "source": [
    "sql_window2.show()"
   ]
  },
  {
   "cell_type": "markdown",
   "metadata": {},
   "source": [
    "#### Basic Machine Learning with DataFrames"
   ]
  },
  {
   "cell_type": "markdown",
   "metadata": {},
   "source": [
    "##### Clustering"
   ]
  },
  {
   "cell_type": "code",
   "execution_count": 24,
   "metadata": {},
   "outputs": [],
   "source": [
    "from pyspark.ml.linalg import Vectors\n",
    "from pyspark.ml.feature import VectorAssembler\n",
    "from pyspark.ml.clustering import KMeans"
   ]
  },
  {
   "cell_type": "code",
   "execution_count": 25,
   "metadata": {},
   "outputs": [],
   "source": [
    "vectorAssembler = VectorAssembler(inputCols=[\"cpu_utilization\", \"free_memory\", \"session_count\"], outputCol=\"features\")"
   ]
  },
  {
   "cell_type": "code",
   "execution_count": 26,
   "metadata": {},
   "outputs": [
    {
     "name": "stdout",
     "output_type": "stream",
     "text": [
      "+---------------+-------------------+-----------+---------+-------------+----------------+\n",
      "|cpu_utilization|     event_datetime|free_memory|server_id|session_count|        features|\n",
      "+---------------+-------------------+-----------+---------+-------------+----------------+\n",
      "|           0.57|03/05/2019 08:06:14|       0.51|      100|           47|[0.57,0.51,47.0]|\n",
      "|           0.47|03/05/2019 08:11:14|       0.62|      100|           43|[0.47,0.62,43.0]|\n",
      "|           0.56|03/05/2019 08:16:14|       0.57|      100|           62|[0.56,0.57,62.0]|\n",
      "|           0.57|03/05/2019 08:21:14|       0.56|      100|           50|[0.57,0.56,50.0]|\n",
      "|           0.35|03/05/2019 08:26:14|       0.46|      100|           43|[0.35,0.46,43.0]|\n",
      "|           0.41|03/05/2019 08:31:14|       0.58|      100|           48|[0.41,0.58,48.0]|\n",
      "|           0.57|03/05/2019 08:36:14|       0.35|      100|           58|[0.57,0.35,58.0]|\n",
      "|           0.41|03/05/2019 08:41:14|        0.4|      100|           58| [0.41,0.4,58.0]|\n",
      "|           0.53|03/05/2019 08:46:14|       0.35|      100|           62|[0.53,0.35,62.0]|\n",
      "|           0.51|03/05/2019 08:51:14|        0.6|      100|           45| [0.51,0.6,45.0]|\n",
      "|           0.32|03/05/2019 08:56:14|       0.37|      100|           47|[0.32,0.37,47.0]|\n",
      "|           0.62|03/05/2019 09:01:14|       0.59|      100|           60|[0.62,0.59,60.0]|\n",
      "|           0.66|03/05/2019 09:06:14|       0.72|      100|           57|[0.66,0.72,57.0]|\n",
      "|           0.54|03/05/2019 09:11:14|       0.54|      100|           44|[0.54,0.54,44.0]|\n",
      "|           0.29|03/05/2019 09:16:14|        0.4|      100|           47| [0.29,0.4,47.0]|\n",
      "|           0.43|03/05/2019 09:21:14|       0.68|      100|           66|[0.43,0.68,66.0]|\n",
      "|           0.49|03/05/2019 09:26:14|       0.66|      100|           65|[0.49,0.66,65.0]|\n",
      "|           0.64|03/05/2019 09:31:14|       0.55|      100|           66|[0.64,0.55,66.0]|\n",
      "|           0.42|03/05/2019 09:36:14|        0.6|      100|           42| [0.42,0.6,42.0]|\n",
      "|           0.55|03/05/2019 09:41:14|       0.59|      100|           63|[0.55,0.59,63.0]|\n",
      "+---------------+-------------------+-----------+---------+-------------+----------------+\n",
      "only showing top 20 rows\n",
      "\n"
     ]
    }
   ],
   "source": [
    "vcluster_df = vectorAssembler.transform(df_util)\n",
    "vcluster_df.show()"
   ]
  },
  {
   "cell_type": "code",
   "execution_count": 29,
   "metadata": {},
   "outputs": [],
   "source": [
    "kmeans = KMeans().setK(3)"
   ]
  },
  {
   "cell_type": "code",
   "execution_count": 30,
   "metadata": {},
   "outputs": [],
   "source": [
    "kmeans = kmeans.setSeed(1)"
   ]
  },
  {
   "cell_type": "code",
   "execution_count": 31,
   "metadata": {},
   "outputs": [],
   "source": [
    "kmeans_model = kmeans.fit(vcluster_df)"
   ]
  },
  {
   "cell_type": "code",
   "execution_count": 32,
   "metadata": {},
   "outputs": [
    {
     "data": {
      "text/plain": [
       "[array([ 0.61918113,  0.38080285, 68.75004716]),\n",
       " array([ 0.71174897,  0.28808911, 86.87510507]),\n",
       " array([ 0.51439668,  0.48445202, 50.49452021])]"
      ]
     },
     "execution_count": 32,
     "metadata": {},
     "output_type": "execute_result"
    }
   ],
   "source": [
    "kmeans_model.clusterCenters()"
   ]
  },
  {
   "cell_type": "code",
   "execution_count": 33,
   "metadata": {},
   "outputs": [],
   "source": [
    "predictions = kmeans_model.transform(vcluster_df)"
   ]
  },
  {
   "cell_type": "code",
   "execution_count": 34,
   "metadata": {},
   "outputs": [
    {
     "name": "stdout",
     "output_type": "stream",
     "text": [
      "+---------------+-------------------+-----------+---------+-------------+----------------+----------+\n",
      "|cpu_utilization|     event_datetime|free_memory|server_id|session_count|        features|prediction|\n",
      "+---------------+-------------------+-----------+---------+-------------+----------------+----------+\n",
      "|           0.57|03/05/2019 08:06:14|       0.51|      100|           47|[0.57,0.51,47.0]|         2|\n",
      "|           0.47|03/05/2019 08:11:14|       0.62|      100|           43|[0.47,0.62,43.0]|         2|\n",
      "|           0.56|03/05/2019 08:16:14|       0.57|      100|           62|[0.56,0.57,62.0]|         0|\n",
      "|           0.57|03/05/2019 08:21:14|       0.56|      100|           50|[0.57,0.56,50.0]|         2|\n",
      "|           0.35|03/05/2019 08:26:14|       0.46|      100|           43|[0.35,0.46,43.0]|         2|\n",
      "|           0.41|03/05/2019 08:31:14|       0.58|      100|           48|[0.41,0.58,48.0]|         2|\n",
      "|           0.57|03/05/2019 08:36:14|       0.35|      100|           58|[0.57,0.35,58.0]|         2|\n",
      "|           0.41|03/05/2019 08:41:14|        0.4|      100|           58| [0.41,0.4,58.0]|         2|\n",
      "|           0.53|03/05/2019 08:46:14|       0.35|      100|           62|[0.53,0.35,62.0]|         0|\n",
      "|           0.51|03/05/2019 08:51:14|        0.6|      100|           45| [0.51,0.6,45.0]|         2|\n",
      "|           0.32|03/05/2019 08:56:14|       0.37|      100|           47|[0.32,0.37,47.0]|         2|\n",
      "|           0.62|03/05/2019 09:01:14|       0.59|      100|           60|[0.62,0.59,60.0]|         0|\n",
      "|           0.66|03/05/2019 09:06:14|       0.72|      100|           57|[0.66,0.72,57.0]|         2|\n",
      "|           0.54|03/05/2019 09:11:14|       0.54|      100|           44|[0.54,0.54,44.0]|         2|\n",
      "|           0.29|03/05/2019 09:16:14|        0.4|      100|           47| [0.29,0.4,47.0]|         2|\n",
      "|           0.43|03/05/2019 09:21:14|       0.68|      100|           66|[0.43,0.68,66.0]|         0|\n",
      "|           0.49|03/05/2019 09:26:14|       0.66|      100|           65|[0.49,0.66,65.0]|         0|\n",
      "|           0.64|03/05/2019 09:31:14|       0.55|      100|           66|[0.64,0.55,66.0]|         0|\n",
      "|           0.42|03/05/2019 09:36:14|        0.6|      100|           42| [0.42,0.6,42.0]|         2|\n",
      "|           0.55|03/05/2019 09:41:14|       0.59|      100|           63|[0.55,0.59,63.0]|         0|\n",
      "+---------------+-------------------+-----------+---------+-------------+----------------+----------+\n",
      "only showing top 20 rows\n",
      "\n"
     ]
    }
   ],
   "source": [
    "predictions.show()"
   ]
  },
  {
   "cell_type": "markdown",
   "metadata": {},
   "source": [
    "##### Regression"
   ]
  },
  {
   "cell_type": "code",
   "execution_count": 35,
   "metadata": {},
   "outputs": [],
   "source": [
    "from pyspark.ml.regression import LinearRegression"
   ]
  },
  {
   "cell_type": "code",
   "execution_count": 38,
   "metadata": {},
   "outputs": [],
   "source": [
    "va = VectorAssembler(inputCols=[\"cpu_utilization\"], outputCol=\"features\")"
   ]
  },
  {
   "cell_type": "code",
   "execution_count": 39,
   "metadata": {},
   "outputs": [],
   "source": [
    "vreg_df = va.transform(df_util)"
   ]
  },
  {
   "cell_type": "code",
   "execution_count": 40,
   "metadata": {},
   "outputs": [
    {
     "name": "stdout",
     "output_type": "stream",
     "text": [
      "+---------------+-------------------+-----------+---------+-------------+--------+\n",
      "|cpu_utilization|     event_datetime|free_memory|server_id|session_count|features|\n",
      "+---------------+-------------------+-----------+---------+-------------+--------+\n",
      "|           0.57|03/05/2019 08:06:14|       0.51|      100|           47|  [0.57]|\n",
      "|           0.47|03/05/2019 08:11:14|       0.62|      100|           43|  [0.47]|\n",
      "|           0.56|03/05/2019 08:16:14|       0.57|      100|           62|  [0.56]|\n",
      "|           0.57|03/05/2019 08:21:14|       0.56|      100|           50|  [0.57]|\n",
      "|           0.35|03/05/2019 08:26:14|       0.46|      100|           43|  [0.35]|\n",
      "|           0.41|03/05/2019 08:31:14|       0.58|      100|           48|  [0.41]|\n",
      "|           0.57|03/05/2019 08:36:14|       0.35|      100|           58|  [0.57]|\n",
      "|           0.41|03/05/2019 08:41:14|        0.4|      100|           58|  [0.41]|\n",
      "|           0.53|03/05/2019 08:46:14|       0.35|      100|           62|  [0.53]|\n",
      "|           0.51|03/05/2019 08:51:14|        0.6|      100|           45|  [0.51]|\n",
      "|           0.32|03/05/2019 08:56:14|       0.37|      100|           47|  [0.32]|\n",
      "|           0.62|03/05/2019 09:01:14|       0.59|      100|           60|  [0.62]|\n",
      "|           0.66|03/05/2019 09:06:14|       0.72|      100|           57|  [0.66]|\n",
      "|           0.54|03/05/2019 09:11:14|       0.54|      100|           44|  [0.54]|\n",
      "|           0.29|03/05/2019 09:16:14|        0.4|      100|           47|  [0.29]|\n",
      "|           0.43|03/05/2019 09:21:14|       0.68|      100|           66|  [0.43]|\n",
      "|           0.49|03/05/2019 09:26:14|       0.66|      100|           65|  [0.49]|\n",
      "|           0.64|03/05/2019 09:31:14|       0.55|      100|           66|  [0.64]|\n",
      "|           0.42|03/05/2019 09:36:14|        0.6|      100|           42|  [0.42]|\n",
      "|           0.55|03/05/2019 09:41:14|       0.59|      100|           63|  [0.55]|\n",
      "+---------------+-------------------+-----------+---------+-------------+--------+\n",
      "only showing top 20 rows\n",
      "\n"
     ]
    }
   ],
   "source": [
    "vreg_df.show()"
   ]
  },
  {
   "cell_type": "code",
   "execution_count": 44,
   "metadata": {},
   "outputs": [],
   "source": [
    "lr = LinearRegression(featuresCol=\"features\", labelCol=\"session_count\")"
   ]
  },
  {
   "cell_type": "code",
   "execution_count": 45,
   "metadata": {},
   "outputs": [],
   "source": [
    "lrModel = lr.fit(vreg_df)"
   ]
  },
  {
   "cell_type": "code",
   "execution_count": 48,
   "metadata": {},
   "outputs": [
    {
     "data": {
      "text/plain": [
       "DenseVector([47.024])"
      ]
     },
     "execution_count": 48,
     "metadata": {},
     "output_type": "execute_result"
    }
   ],
   "source": [
    "lrModel.coefficients"
   ]
  },
  {
   "cell_type": "code",
   "execution_count": 49,
   "metadata": {},
   "outputs": [
    {
     "data": {
      "text/plain": [
       "40.41695103548856"
      ]
     },
     "execution_count": 49,
     "metadata": {},
     "output_type": "execute_result"
    }
   ],
   "source": [
    "lrModel.intercept"
   ]
  },
  {
   "cell_type": "code",
   "execution_count": 50,
   "metadata": {},
   "outputs": [
    {
     "data": {
      "text/plain": [
       "12.83799022593107"
      ]
     },
     "execution_count": 50,
     "metadata": {},
     "output_type": "execute_result"
    }
   ],
   "source": [
    "lrModel.summary.rootMeanSquaredError"
   ]
  },
  {
   "cell_type": "code",
   "execution_count": null,
   "metadata": {},
   "outputs": [],
   "source": []
  }
 ],
 "metadata": {
  "kernelspec": {
   "display_name": "Python 3",
   "language": "python",
   "name": "python3"
  },
  "language_info": {
   "codemirror_mode": {
    "name": "ipython",
    "version": 3
   },
   "file_extension": ".py",
   "mimetype": "text/x-python",
   "name": "python",
   "nbconvert_exporter": "python",
   "pygments_lexer": "ipython3",
   "version": "3.7.9"
  }
 },
 "nbformat": 4,
 "nbformat_minor": 4
}
